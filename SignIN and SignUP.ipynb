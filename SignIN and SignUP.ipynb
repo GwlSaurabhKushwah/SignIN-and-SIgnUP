{
 "cells": [
  {
   "cell_type": "code",
   "execution_count": 3,
   "id": "3e09fe42",
   "metadata": {},
   "outputs": [],
   "source": [
    "d = {'admin' : 'Qwerty@123'}"
   ]
  },
  {
   "cell_type": "code",
   "execution_count": 4,
   "id": "1a88e3dd",
   "metadata": {},
   "outputs": [
    {
     "data": {
      "text/plain": [
       "{'admin': 'Qwerty@123'}"
      ]
     },
     "execution_count": 4,
     "metadata": {},
     "output_type": "execute_result"
    }
   ],
   "source": [
    "d2 = {}"
   ]
  },
  {
   "cell_type": "code",
   "execution_count": 5,
   "id": "8b92f077",
   "metadata": {},
   "outputs": [],
   "source": [
    "def checkpasswordstrength(password):\n",
    "    return True"
   ]
  },
  {
   "cell_type": "code",
   "execution_count": 6,
   "id": "1a192920",
   "metadata": {},
   "outputs": [
    {
     "name": "stdout",
     "output_type": "stream",
     "text": [
      "Enter  your username: Saurabh \n",
      "'username doesn't exist. please try again....Press 0 to Exit'\n",
      "Enter  your username: admin\n",
      "Enter your password for admin: Qwerty123@\n",
      "password doesn't match please try again....\n",
      "Enter your password for admin: Qwerty@123\n"
     ]
    },
    {
     "data": {
      "text/plain": [
       "'Succesful'"
      ]
     },
     "execution_count": 6,
     "metadata": {},
     "output_type": "execute_result"
    }
   ],
   "source": [
    "def signIn():\n",
    "    while 1:\n",
    "        userIn = input(\"Enter  your username: \").lower()\n",
    "        if userIn == '0':\n",
    "            return 'failed'\n",
    "        if userIn in d:\n",
    "            sf1 = 3 \n",
    "            while sf1:\n",
    "                passIn = input(f\"Enter your password for {userIn}: \")\n",
    "                if d[userIn] == passIn:\n",
    "                    return \"Succesful\"\n",
    "                else:\n",
    "                    print(\"password doesn't match please try again....\")\n",
    "                    sf1 -= 1 \n",
    "            return 'failed'\n",
    "        else:\n",
    "            print(\"'username doesn't exist. please try again....Press 0 to Exit'\")\n",
    "\n",
    "\n",
    "signIn()\n",
    "    "
   ]
  },
  {
   "cell_type": "code",
   "execution_count": 18,
   "id": "0e0cbd0d",
   "metadata": {},
   "outputs": [
    {
     "name": "stdout",
     "output_type": "stream",
     "text": [
      "Enter a new UserName:saurabh\n",
      "enter a strong password: 123456\n",
      "Please enter your password again: 123456\n"
     ]
    },
    {
     "data": {
      "text/plain": [
       "'Successful'"
      ]
     },
     "execution_count": 18,
     "metadata": {},
     "output_type": "execute_result"
    }
   ],
   "source": [
    "def signUp():\n",
    "    while 1:\n",
    "        userUp = input(\"Enter a new UserName:\").lower()\n",
    "        if userUp not in d:\n",
    "            passUp = input(\"enter a strong password: \")\n",
    "            if checkpasswordstrength(passUp):\n",
    "                st1 = 3\n",
    "                while st1:\n",
    "                    passUp2 = input('Please enter your password again: ')\n",
    "                    if passUp == passUp2:\n",
    "                        d.update({userUp:passUp}) #d[userUp] = passUp\n",
    "                        return 'Successful'\n",
    "                    else:\n",
    "                        print(\"Password does not match....Please try again...\")\n",
    "                        st1 -= 1 \n",
    "                return 'Failed'\n",
    "\n",
    "        else:\n",
    "            print(\"' UserName already exists......please try another...... Press 0 to Exit '\" )\n",
    "            \n",
    "            \n",
    "signUp()\n",
    "\n"
   ]
  },
  {
   "cell_type": "code",
   "execution_count": 30,
   "id": "1c711263",
   "metadata": {},
   "outputs": [
    {
     "name": "stdout",
     "output_type": "stream",
     "text": [
      "\n",
      "Choose Mode:\n",
      "    Press 1 to Signup\n",
      "    Press 2 to SignIn\n",
      "    Press 0 to Exit\n",
      "    : 2\n",
      "Enter  your username: saurabh\n",
      "Enter your password for saurabh: soku123\n",
      "password doesn't match please try again....\n",
      "Enter your password for saurabh: 123456\n",
      "SignIn\n",
      "\n",
      "Choose Mode:\n",
      "    Press 1 to Signup\n",
      "    Press 2 to SignIn\n",
      "    Press 0 to Exit\n",
      "    : 1\n",
      "Enter a new UserName:sagar \n",
      "enter a strong password: 123\n",
      "Please enter your password again: 123\n",
      "SignUp\n",
      "\n",
      "Choose Mode:\n",
      "    Press 1 to Signup\n",
      "    Press 2 to SignIn\n",
      "    Press 0 to Exit\n",
      "    : 0\n",
      "Exiting...Thank you for using our Services...\n"
     ]
    }
   ],
   "source": [
    "while 1:\n",
    "    mode = input('''\\nChoose Mode:\n",
    "    Press 1 to Signup\n",
    "    Press 2 to SignIn\n",
    "    Press 0 to Exit\n",
    "    : ''')\n",
    "    if mode == '1':\n",
    "        signUp()\n",
    "        print('SignUp')\n",
    "    elif mode == \"2\":\n",
    "        signIn()\n",
    "        print('SignIn')\n",
    "    elif mode == '0':\n",
    "        print('Exiting...Thank you for using our Services...')\n",
    "        break\n",
    "    else:\n",
    "        print('Enter a valid input...')"
   ]
  },
  {
   "cell_type": "code",
   "execution_count": 8,
   "id": "3a93f4c9",
   "metadata": {},
   "outputs": [
    {
     "data": {
      "text/plain": [
       "{'admin': 'Qwerty@123', 'Saurabh ': 'soku123', 'Anjali': 'anjali123', '0': '0'}"
      ]
     },
     "execution_count": 8,
     "metadata": {},
     "output_type": "execute_result"
    }
   ],
   "source": [
    "d"
   ]
  },
  {
   "cell_type": "code",
   "execution_count": 3,
   "id": "58b8d2c3",
   "metadata": {},
   "outputs": [
    {
     "name": "stdout",
     "output_type": "stream",
     "text": [
      "SMbd10cc48b8281a2a80de4b784ee2e057\n"
     ]
    }
   ],
   "source": [
    "# Download the helper library from https://www.twilio.com/docs/python/install\n",
    "import os\n",
    "from twilio.rest import Client\n",
    "# Set environment variables for your credentials\n",
    "# Read more at http://twil.io/secure\n",
    "account_sid = \"AC04d25e48be1504e219f11716fa7c505f\"\n",
    "auth_token = \"2687c838234127b68b0dc47239daf1e1\"\n",
    "client = Client(account_sid, auth_token)\n",
    "\n",
    "import random\n",
    "c= random.randint(1000,9999)\n",
    "msg = 'your OTP is' + str(c)\n",
    "\n",
    "message = client.messages.create(\n",
    "  body= msg ,\n",
    "  from_=\"+14406364702\",\n",
    "  to=\"+919340866304\"\n",
    ")\n",
    "print(message.sid)"
   ]
  },
  {
   "cell_type": "code",
   "execution_count": 6,
   "id": "d9b6192d",
   "metadata": {},
   "outputs": [
    {
     "name": "stdout",
     "output_type": "stream",
     "text": [
      "302667\n"
     ]
    }
   ],
   "source": [
    "import random \n",
    "c= random.randint(100000,999999)\n",
    "print(c)"
   ]
  },
  {
   "cell_type": "code",
   "execution_count": null,
   "id": "a9db3354",
   "metadata": {},
   "outputs": [],
   "source": []
  }
 ],
 "metadata": {
  "kernelspec": {
   "display_name": "Python 3 (ipykernel)",
   "language": "python",
   "name": "python3"
  },
  "language_info": {
   "codemirror_mode": {
    "name": "ipython",
    "version": 3
   },
   "file_extension": ".py",
   "mimetype": "text/x-python",
   "name": "python",
   "nbconvert_exporter": "python",
   "pygments_lexer": "ipython3",
   "version": "3.11.3"
  }
 },
 "nbformat": 4,
 "nbformat_minor": 5
}
